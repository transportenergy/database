{
 "cells": [
  {
   "cell_type": "code",
   "execution_count": 1,
   "metadata": {},
   "outputs": [
    {
     "name": "stdout",
     "output_type": "stream",
     "text": [
      "Cleaned data saved to final_clean_output_data.csv\n"
     ]
    }
   ],
   "source": [
    "import pandas as pd\n",
    "\n",
    "# Paths to your files\n",
    "master_data_path = r\"master dataset.csv\"\n",
    "file_paths = [\n",
    "    r\"Output_data TAS-FRA-005(2).csv\",\n",
    "    r\"Output_data_TAS-VEP-005(2).csv\",\n",
    "    r\"Output_data_TAS-PAG-005(2).csv\",\n",
    "    r\"Output_data_TAS-PAT-017(1).csv\"    \n",
    "    # Add the paths to all your other files here\n",
    "]\n",
    "\n",
    "# Step 1: Merge the Master Data with Uploaded Files\n",
    "def load_and_merge_data(master_path, file_paths):\n",
    "    all_data_frames = []\n",
    "    \n",
    "    # Load the master data\n",
    "    try:\n",
    "        master_data = pd.read_csv(master_path)\n",
    "        all_data_frames.append(master_data)\n",
    "    except Exception as e:\n",
    "        print(f\"Error loading master data: {e}\")\n",
    "    \n",
    "    # Load and append other data files\n",
    "    for file_path in file_paths:\n",
    "        try:\n",
    "            df = pd.read_csv(file_path)\n",
    "            all_data_frames.append(df)\n",
    "        except Exception as e:\n",
    "            print(f\"Error loading file {file_path}: {e}\")\n",
    "\n",
    "    # Concatenate all data frames\n",
    "    merged_data = pd.concat(all_data_frames, ignore_index=True)\n",
    "    return merged_data\n",
    "\n",
    "# Step 2: Data Cleaning Process\n",
    "def clean_data(merged_data):\n",
    "    # Filling missing values in yearly data columns with zeros\n",
    "    year_columns = [str(year) for year in range(1950, 2023)]\n",
    "    merged_data[year_columns] = merged_data[year_columns].fillna(0)\n",
    "\n",
    "    # Return the cleaned data\n",
    "    return merged_data\n",
    "\n",
    "# Running the merging and cleaning process\n",
    "merged_data = load_and_merge_data(master_data_path, file_paths)\n",
    "cleaned_data = clean_data(merged_data)\n",
    "\n",
    "# Save the cleaned data to a new file\n",
    "cleaned_data_path = 'final_clean_output_data.csv'\n",
    "cleaned_data.to_csv(cleaned_data_path, index=False)\n",
    "\n",
    "print(f\"Cleaned data saved to {cleaned_data_path}\")"
   ]
  }
 ],
 "metadata": {
  "kernelspec": {
   "display_name": "Python 3",
   "language": "python",
   "name": "python3"
  },
  "language_info": {
   "codemirror_mode": {
    "name": "ipython",
    "version": 3
   },
   "file_extension": ".py",
   "mimetype": "text/x-python",
   "name": "python",
   "nbconvert_exporter": "python",
   "pygments_lexer": "ipython3",
   "version": "3.11.4"
  }
 },
 "nbformat": 4,
 "nbformat_minor": 2
}
